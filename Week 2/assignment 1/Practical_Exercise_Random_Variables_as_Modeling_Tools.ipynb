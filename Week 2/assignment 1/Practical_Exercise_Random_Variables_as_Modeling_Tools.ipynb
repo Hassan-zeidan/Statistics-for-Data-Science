{
  "nbformat": 4,
  "nbformat_minor": 0,
  "metadata": {
    "colab": {
      "provenance": [],
      "authorship_tag": "ABX9TyOECHJkoElj7vMII3tKciqT",
      "include_colab_link": true
    },
    "kernelspec": {
      "name": "python3",
      "display_name": "Python 3"
    },
    "language_info": {
      "name": "python"
    }
  },
  "cells": [
    {
      "cell_type": "markdown",
      "metadata": {
        "id": "view-in-github",
        "colab_type": "text"
      },
      "source": [
        "<a href=\"https://colab.research.google.com/github/Hassan-zeidan/Statistics-for-Data-Science/blob/main/Week%202/assignment%201/Practical_Exercise_Random_Variables_as_Modeling_Tools.ipynb\" target=\"_parent\"><img src=\"https://colab.research.google.com/assets/colab-badge.svg\" alt=\"Open In Colab\"/></a>"
      ]
    },
    {
      "cell_type": "markdown",
      "source": [
        "<h1><font color=\"red\">Practical Exercise: Random Variables as Modeling Tools</font></h1>\n"
      ],
      "metadata": {
        "id": "LtuI3WKTGg-4"
      }
    },
    {
      "cell_type": "markdown",
      "source": [
        "<h2><font color=\"blue\">Discrete Random Variable</font></h2>"
      ],
      "metadata": {
        "id": "f_jwomSiHGVO"
      }
    },
    {
      "cell_type": "markdown",
      "source": [
        "# **Roll a die (1 to 6)**:\n"
      ],
      "metadata": {
        "id": "NRWqFcAZchWA"
      }
    },
    {
      "cell_type": "markdown",
      "source": [
        "**Describe the experiment:** we roll a fair six sided die repeatedly and stop as soon as a 6 appears, Every roll has a 1/6 chance of landing on a 6.  \n",
        "We can’t predict when the first 6 will appear , it could be directly on the first roll, or it might take many tries."
      ],
      "metadata": {
        "id": "U6poJUJzHSiu"
      }
    },
    {
      "cell_type": "markdown",
      "source": [
        "**Define the random variable:** The number of rolls until we get a 6  \n",
        "X = the number of rolls needed until the first 6 appears.   \n",
        "if it takes 4 rolls for the first 6 to appear then X=4"
      ],
      "metadata": {
        "id": "YNmDc2luHYCD"
      }
    },
    {
      "cell_type": "markdown",
      "source": [
        "**Classify the variable:** Discrete , since the results are coutable integers"
      ],
      "metadata": {
        "id": "VRtvrqGjHebH"
      }
    },
    {
      "cell_type": "markdown",
      "source": [
        "**List possible values:** { 1 , 2 , 3 , 4 , ....}"
      ],
      "metadata": {
        "id": "8QgVWQPJHiM_"
      }
    },
    {
      "cell_type": "markdown",
      "source": [
        "**Predict the outcome behavior:**\n",
        "\n",
        "1.   What values do you expect to occur most often?  \n",
        "The values that will repeat often are 1-5\n",
        "2.   What values are unlikely or extreme?  \n",
        "any value greater than 7\n"
      ],
      "metadata": {
        "id": "XKQ8QS5ZHlcj"
      }
    },
    {
      "cell_type": "markdown",
      "source": [
        "**Simulate the experiment using Python:**\n",
        "\n",
        "---\n",
        "\n",
        "---\n"
      ],
      "metadata": {
        "id": "GIN57_19H4iY"
      }
    },
    {
      "cell_type": "code",
      "source": [
        "import random\n",
        "import numpy as np\n",
        "import matplotlib.pyplot as plt\n",
        "from collections import Counter"
      ],
      "metadata": {
        "id": "AvpzC3MfHdSk"
      },
      "execution_count": 1,
      "outputs": []
    },
    {
      "cell_type": "code",
      "source": [
        "def simulate_rolls_until_six():\n",
        "    rolls = 0\n",
        "    while True:\n",
        "        rolls += 1\n",
        "        roll = random.randint(1, 6)\n",
        "        if roll == 6:\n",
        "            return rolls\n",
        "\n",
        "N = 50\n",
        "discrete_outcomes = []\n",
        "for i in range(N):\n",
        "    outcome = simulate_rolls_until_six()\n",
        "    discrete_outcomes.append(outcome)\n",
        "\n",
        "discrete_outcomes[0:20]"
      ],
      "metadata": {
        "colab": {
          "base_uri": "https://localhost:8080/"
        },
        "id": "IkMg7EtLJQsV",
        "outputId": "cee9d3a2-3e73-49fc-c368-ba225a0edf31"
      },
      "execution_count": 8,
      "outputs": [
        {
          "output_type": "execute_result",
          "data": {
            "text/plain": [
              "[22, 4, 2, 6, 19, 13, 1, 1, 1, 4, 15, 27, 6, 3, 7, 9, 2, 7, 1, 5]"
            ]
          },
          "metadata": {},
          "execution_count": 8
        }
      ]
    },
    {
      "cell_type": "markdown",
      "source": [
        "**Calculate statistics:**"
      ],
      "metadata": {
        "id": "p8SE7UQ9KiIG"
      }
    },
    {
      "cell_type": "code",
      "source": [
        "mean_discrete = np.mean(discrete_outcomes)\n",
        "var_discrete = np.var(discrete_outcomes)\n",
        "print(f\"Mean: {mean_discrete}\")\n",
        "print(f\"Variance: {var_discrete}\")"
      ],
      "metadata": {
        "colab": {
          "base_uri": "https://localhost:8080/"
        },
        "id": "vvhJ5MpjK-U0",
        "outputId": "8349c3b4-cb04-448a-f698-5821ad589b72"
      },
      "execution_count": 9,
      "outputs": [
        {
          "output_type": "stream",
          "name": "stdout",
          "text": [
            "Mean: 7.36\n",
            "Variance: 39.9904\n"
          ]
        }
      ]
    },
    {
      "cell_type": "markdown",
      "source": [
        "**Create a plot:**"
      ],
      "metadata": {
        "id": "JnsRAOVIL6fI"
      }
    },
    {
      "cell_type": "code",
      "source": [
        "counts = Counter(discrete_outcomes)\n",
        "xs = sorted(counts.keys())\n",
        "ys = [counts[x] for x in xs]\n",
        "\n",
        "plt.figure()\n",
        "plt.bar(xs, ys)\n",
        "plt.xlabel(\"Number of rolls until first 6\")\n",
        "plt.ylabel(\"Frequency\")\n",
        "plt.title(f\"Die rolls until first 6 (N=50)\")\n",
        "plt.show()"
      ],
      "metadata": {
        "colab": {
          "base_uri": "https://localhost:8080/",
          "height": 472
        },
        "id": "wujjbUcuMJ2U",
        "outputId": "6817d497-ee4d-4901-99d9-f24adbe72fc2"
      },
      "execution_count": 11,
      "outputs": [
        {
          "output_type": "display_data",
          "data": {
            "text/plain": [
              "<Figure size 640x480 with 1 Axes>"
            ],
            "image/png": "[encoded data removed]"
          },
          "metadata": {}
        }
      ]
    },
    {
      "cell_type": "markdown",
      "source": [
        "\n",
        "\n",
        "---\n",
        "\n",
        "\n",
        "\n",
        "---\n",
        "\n",
        "\n",
        "\n",
        "---\n",
        "\n"
      ],
      "metadata": {
        "id": "bYT-d5IUdAfp"
      }
    },
    {
      "cell_type": "markdown",
      "source": [
        "<h2><font color=\"green\">Continuous Random Variable</font></h2>\n"
      ],
      "metadata": {
        "id": "Z5yOezFCIBST"
      }
    },
    {
      "cell_type": "markdown",
      "source": [
        "# **Time to Solve a Riddle**"
      ],
      "metadata": {
        "id": "suAV5m8Mc0zP"
      }
    },
    {
      "cell_type": "markdown",
      "source": [
        "**Describe the experiment:**  \n",
        "Record How long it takes for different people to solve a given riddle , Times vary from person to person and attempt to attempt."
      ],
      "metadata": {
        "id": "prpi4PZ2IWBU"
      }
    },
    {
      "cell_type": "markdown",
      "source": [
        "**Define the random variable:** The random variable is time in seconds to solve a given riddle  \n",
        "**T**: Random variable  \n",
        "For example, if someone solves it in 33.5 seconds, then T = 33.5."
      ],
      "metadata": {
        "id": "O6A3XrdDIWBV"
      }
    },
    {
      "cell_type": "markdown",
      "source": [
        "**Classify the variable:** The random variable here is **continuos** since it can be any number greater than 0 including decimals (ie rational numbers ..)"
      ],
      "metadata": {
        "id": "E2L_4yR4IWBV"
      }
    },
    {
      "cell_type": "markdown",
      "source": [
        "**List possible values:**  \n",
        "any number greater than 0 ( logically greater than 1 or 2 , since no one can solve a riddle with 0 secinds ) in other words and mathematically **T** > 0 most times might fall roughly between 10 and 90 seconds."
      ],
      "metadata": {
        "id": "THduMVBDIWBV"
      }
    },
    {
      "cell_type": "markdown",
      "source": [
        "Predict the outcome behavior:\n",
        "\n",
        "1.   **What values do you expect to occur most often?**  \n",
        "Around the typical solving time (about 30–60 seconds)\n",
        "2.   **What values are unlikely or extreme?**  \n",
        "Very small times (near 0) or very large times ( above 90 seconds).\n"
      ],
      "metadata": {
        "id": "9YXPhUxVIWBV"
      }
    },
    {
      "cell_type": "markdown",
      "source": [
        "**Simulate the experiment using Python:**\n",
        "\n",
        "---\n",
        "\n",
        "---\n"
      ],
      "metadata": {
        "id": "w4dz2Aj5g0aH"
      }
    },
    {
      "cell_type": "code",
      "source": [
        "import random"
      ],
      "metadata": {
        "id": "ZqNytrVXf7zX"
      },
      "execution_count": 13,
      "outputs": []
    },
    {
      "cell_type": "code",
      "source": [
        "def simulate_riddle_time(mean=45, std=15, min_time=1):\n",
        "  t=random.gauss(mean,std)\n",
        "  if t<min_time:\n",
        "    t=min_time\n",
        "  return t\n",
        "\n",
        "N=50\n",
        "continuous_outcomes=[]\n",
        "\n",
        "for i in range(N):\n",
        "  time_sec=simulate_riddle_time()\n",
        "  continuous_outcomes.append(time_sec)\n",
        "\n",
        "continuous_outcomes[0:10]"
      ],
      "metadata": {
        "colab": {
          "base_uri": "https://localhost:8080/"
        },
        "id": "I_CQZaHXigGQ",
        "outputId": "84026c03-b788-4bc5-c118-ae8513cf78bf"
      },
      "execution_count": 15,
      "outputs": [
        {
          "output_type": "execute_result",
          "data": {
            "text/plain": [
              "[52.400391984711526,\n",
              " 14.479564659296791,\n",
              " 29.233249370451148,\n",
              " 44.89850184251406,\n",
              " 39.16312936715961,\n",
              " 45.86664744721635,\n",
              " 63.79747363048541,\n",
              " 52.660651538705885,\n",
              " 34.88936274632114,\n",
              " 67.50121201182408]"
            ]
          },
          "metadata": {},
          "execution_count": 15
        }
      ]
    },
    {
      "cell_type": "markdown",
      "source": [
        "**Calculate statistics:**"
      ],
      "metadata": {
        "id": "U07y8v1-myfh"
      }
    },
    {
      "cell_type": "code",
      "source": [
        "mean_cont = np.mean(continuous_outcomes)\n",
        "var_cont  = np.var(continuous_outcomes, ddof=1)  # ddof=1 gives SAMPLE variance\n",
        "#additional : std_cont\n",
        "std_cont = np.std(continuous_outcomes)\n",
        "\n",
        "print(f\"Mean (seconds): {mean_cont:.2f}\")\n",
        "print(f\"Variance (sec^2): {var_cont:.2f}\")\n",
        "print(f\"Standard deviation (sec): {std_cont:.2f}\")"
      ],
      "metadata": {
        "colab": {
          "base_uri": "https://localhost:8080/"
        },
        "id": "KBPUwrWkmSu-",
        "outputId": "1b089bd9-4efa-473a-d1af-f63ef048e8f4"
      },
      "execution_count": 28,
      "outputs": [
        {
          "output_type": "stream",
          "name": "stdout",
          "text": [
            "Mean (seconds): 45.58\n",
            "Variance (sec^2): 237.13\n",
            "Standard deviation (sec): 15.24\n"
          ]
        }
      ]
    },
    {
      "cell_type": "markdown",
      "source": [
        "**Create a plot:**"
      ],
      "metadata": {
        "id": "iMQ4owRrm0B6"
      }
    },
    {
      "cell_type": "code",
      "source": [
        "import matplotlib.pyplot as plt\n",
        "\n",
        "plt.figure()\n",
        "plt.hist(continuous_outcomes, bins=15)\n",
        "plt.xlabel(\"Time to solve riddle (seconds)\")\n",
        "plt.ylabel(\"Frequency\")\n",
        "plt.title(f\"Riddle solving times (N=50)\")\n",
        "plt.show()"
      ],
      "metadata": {
        "colab": {
          "base_uri": "https://localhost:8080/",
          "height": 472
        },
        "id": "58cl2CVjgwTU",
        "outputId": "7beff5b1-1dda-4cab-86bc-bd14dad91f67"
      },
      "execution_count": 29,
      "outputs": [
        {
          "output_type": "display_data",
          "data": {
            "text/plain": [
              "<Figure size 640x480 with 1 Axes>"
            ],
            "image/png": "[encoded data removed]"
          },
          "metadata": {}
        }
      ]
    },
    {
      "cell_type": "code",
      "source": [],
      "metadata": {
        "id": "bEtQ2BD-losz"
      },
      "execution_count": null,
      "outputs": []
    }
  ]
}